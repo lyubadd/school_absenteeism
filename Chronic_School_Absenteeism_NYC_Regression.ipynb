{
 "cells": [
  {
   "cell_type": "markdown",
   "id": "68be5926",
   "metadata": {},
   "source": [
    "# What is the relationship between chronic school absenteeism and class size? \n",
    "\n",
    "## A Chronic School Absenteeism Regression Analysis of Public Schools in NYC 2016-2023"
   ]
  },
  {
   "cell_type": "markdown",
   "id": "5332b166",
   "metadata": {},
   "source": [
    "# Executive Summary\n",
    "\n",
    "This analysis investigates the relationship between chronic school absenteeism in New York City public schools and class size and pupil-teacher ratio. Chronic absenteeism, a critical indicator of school quality and student success, remains a significant challenge, with 41% of NYC public school students chronically absent in the 2022-2023 school year.\n",
    "\n",
    "One of the most important recent policy measures that the NYC Department of Education (DOE) undertook to respond to this and other education quality concerns, is to decrease class sizes by a local law that requires schools in New York City to reduce their class sizes over the course of five years. The law was signed by the New York State governor in 2022.\n",
    "\n",
    "The analysis reveals an unexpected negative relationship between chronic absenteeism and both class size and pupil-teacher ratio. In other words, contrary to expectations, chronic absenteeism tends to increase as class sizes and pupil-teacher ratio decrease. The effect of class size on absenteeism is relatively small, with a 0.29 decrease in absenteeism for each one-unit increase in class size. However, the relationship with pupil-teacher ratio is stronger: the model predicts nearly 2 fewer chronically absent students for each unit increase in pupil-teacher ratio (i.e., more students per teacher).\n",
    "\n",
    "While these results are statistically significant, they explain only 17.8% of the variation in absenteeism. This suggests that other important factors—such as teacher quality, student engagement, classroom resources and factors external to the school (health and family situation) are likely influencing absenteeism rates, and these factors are not captured in the current model.\n",
    "\n",
    "Although the study indicates that reducing class sizes may not be the most effective policy to reduce absenteeism, the findings underscore the complexity of addressing chronic absenteeism. Further research is needed to explore the role of additional variables and to evaluate the broader impact of educational policies like class size reduction.\n",
    "\n",
    "For more insights, this [visual exploratory analysis on chronic absenteeism in NYC public schools](https://public.tableau.com/app/profile/lyuba3471/viz/ChronicSchoolAbsenteeisminNYCPublicSchools/ChronicSchoolAbsenteeisminNYCPublicSchools) provides additional context and detail."
   ]
  },
  {
   "cell_type": "markdown",
   "id": "f984edfd",
   "metadata": {},
   "source": [
    "\n",
    "# Introduction\n",
    "Chronic school absenteeism - defined as missing at least 10% of schoool days in a school year - is the main indicator of school quality and student success that states in the U.S. have used to meet the requirements of the 2015 Every Student Succeeds Act governing the country’s K–12 public education policy.\n",
    "\n",
    "Chronic school absenteeism puts students at high risk of falling behind at school and dropping out.\n",
    "\n",
    "In 2016 the first US Education Department report since the Act showed that more than 6 million students in the US were chronically absent, meaning they missed more than 15 school days in a year. Six years and the Covid-19 pandemic later, the latest figures remain disquieting. Looking at New York City (NYC) only, the chronic school absenteeism rate in public schools in the school year 2022-2023 was 41%.\n",
    "\n",
    "One of the most important recent policy measures that the NYC Department of Education (DOE) undertook to respond to this and other education quality concerns, is to decrease class sizes by a local law that requires schools in New York City to reduce their class sizes to no more than 20 students in grades K–3, 23 students in grades 4–8, and 25 students in high school over the next five years. The law was signed by the New York State governor in 2022.\n",
    "\n",
    "This has been a controversial measure as studies have shown limited impact on education quality and outcomes for students, while the cost is high. \n",
    "\n",
    "This project aims to use NYC Open Data to understand the chronic school absenteeism trends in NYC and to see if there is any historical correlation between smaller class sizes and smaller pupil-teacher ratios and lower school absenteeism rates as an indicator of education quality."
   ]
  },
  {
   "cell_type": "markdown",
   "id": "6c9c33a6",
   "metadata": {},
   "source": [
    "## 1. Load the data"
   ]
  },
  {
   "cell_type": "markdown",
   "id": "33f2dd00",
   "metadata": {},
   "source": [
    "The original NYC Open Data / Department of Education (DOE) files are in xlsx format containing multiple sheets. We need to transform them to CSV files containing separate sheets, and to merge the CSV files containing the same data for different school years.\n",
    "\n",
    "In the analysis we will use data for all students and all grades."
   ]
  },
  {
   "cell_type": "code",
   "execution_count": 1,
   "id": "fed43d9b",
   "metadata": {},
   "outputs": [],
   "source": [
    "# import libraries\n",
    "\n",
    "import pandas as pd\n",
    "import os\n",
    "import matplotlib.pyplot as plt\n",
    "import seaborn as sns\n",
    "import statsmodels.api as sm\n",
    "from patsy import dmatrices\n",
    "from statsmodels.stats.outliers_influence import variance_inflation_factor\n"
   ]
  },
  {
   "cell_type": "code",
   "execution_count": 2,
   "id": "b7076932",
   "metadata": {},
   "outputs": [
    {
     "name": "stdout",
     "output_type": "stream",
     "text": [
      "CSV file '2016_2017_avg_classsize_school_K-8 Avg.csv' already exists.\n",
      "CSV file '2016_2017_avg_classsize_school_MS HS Avg.csv' already exists.\n",
      "CSV file '2016_2017_avg_classsize_school_PTR.csv' already exists.\n",
      "CSV file '2017_2018_avg_classsize_school_K-8 Avg.csv' already exists.\n",
      "CSV file '2017_2018_avg_classsize_school_MS HS Avg.csv' already exists.\n",
      "CSV file '2017_2018_avg_classsize_school_PTR.csv' already exists.\n",
      "CSV file '2018_2019-avg-class-size-school_K-8 Avg.csv' already exists.\n",
      "CSV file '2018_2019-avg-class-size-school_MS HS Avg.csv' already exists.\n",
      "CSV file '2018_2019-avg-class-size-school_PTR.csv' already exists.\n",
      "CSV file '2019_2020_avg_classsize_school_K-8 Avg.csv' already exists.\n",
      "CSV file '2019_2020_avg_classsize_school_MS HS Avg.csv' already exists.\n",
      "CSV file '2019_2020_avg_classsize_school_PTR.csv' already exists.\n",
      "CSV file '2020_2021_avg_classsize_school_K-8.csv' already exists.\n",
      "CSV file '2020_2021_avg_classsize_school_MS & HS.csv' already exists.\n",
      "CSV file '2020_2021_avg_classsize_school_Ratio.csv' already exists.\n",
      "CSV file '2021_2022_avg_classsize_school_K-8 Avg.csv' already exists.\n",
      "CSV file '2021_2022_avg_classsize_school_MS HS Avg.csv' already exists.\n",
      "CSV file '2021_2022_avg_classsize_school_PTR.csv' already exists.\n",
      "CSV file '2022_2023_avg_classsize_school_K-8 Avg.csv' already exists.\n",
      "CSV file '2022_2023_avg_classsize_school_MS HS Avg.csv' already exists.\n",
      "CSV file '2022_2023_avg_classsize_school_PTR.csv' already exists.\n"
     ]
    }
   ],
   "source": [
    "# define the list of class size Excel files to save as CSV files\n",
    "excel_files_classsize = ['2016_2017_avg_classsize_school.xlsx', '2017_2018_avg_classsize_school.xlsx', '2018_2019-avg-class-size-school.xlsx', '2019_2020_avg_classsize_school.xlsx', '2020_2021_avg_classsize_school.xlsx', '2021_2022_avg_classsize_school.xlsx', '2022_2023_avg_classsize_school.xlsx']\n",
    "\n",
    "# iterate over each Excel file and save each sheet as a separate CSV file\n",
    "for file in excel_files_classsize:\n",
    "    excel_data = pd.ExcelFile(file)\n",
    "    for sheet_name in excel_data.sheet_names:\n",
    "        csv_file_name = f'{os.path.splitext(file)[0]}_{sheet_name}.csv'\n",
    "        if not os.path.exists(csv_file_name):\n",
    "            df = excel_data.parse(sheet_name)\n",
    "            df.to_csv(csv_file_name, index=False)\n",
    "        else:\n",
    "            print(f\"CSV file '{csv_file_name}' already exists.\")"
   ]
  },
  {
   "cell_type": "code",
   "execution_count": 3,
   "id": "20213614",
   "metadata": {},
   "outputs": [
    {
     "name": "stdout",
     "output_type": "stream",
     "text": [
      "Merged CSV file already exists.\n"
     ]
    }
   ],
   "source": [
    "# after checking that the files are structured in the same way, merge all class size csv files in a new csv file\n",
    "\n",
    "# get the directory where the Jupyter Notebook is located\n",
    "notebook_directory = os.getcwd()\n",
    "\n",
    "# specify the names of the CSV files to merge\n",
    "files_to_merge = ['2016_2017_avg_classsize_school_K-8 Avg.csv', '2016_2017_avg_classsize_school_MS HS Avg.csv', '2017_2018_avg_classsize_school_K-8 Avg.csv', '2017_2018_avg_classsize_school_MS HS Avg.csv',  '2018_2019-avg-class-size-school_K-8 Avg.csv', '2018_2019-avg-class-size-school_MS HS Avg.csv', '2019_2020_avg_classsize_school_K-8 Avg.csv', '2019_2020_avg_classsize_school_MS HS Avg.csv','2020_2021_avg_classsize_school_K-8.csv','2020_2021_avg_classsize_school_MS & HS.csv', '2021_2022_avg_classsize_school_K-8 Avg.csv', '2021_2022_avg_classsize_school_MS HS Avg.csv', '2022_2023_avg_classsize_school_K-8 Avg.csv', '2022_2023_avg_classsize_school_MS HS Avg.csv']\n",
    "\n",
    "# create an empty list to store data frames for the files to merge\n",
    "dfs_to_merge = []\n",
    "\n",
    "# read the CSV files to merge\n",
    "for file_to_merge in files_to_merge:\n",
    "    # Read CSV file into DataFrame\n",
    "    df = pd.read_csv(os.path.join(notebook_directory, file_to_merge))\n",
    "    # Append DataFrame to list\n",
    "    dfs_to_merge.append(df)\n",
    "\n",
    "# check if the merged class size CSV file already exists\n",
    "merged_csv_file = 'merged_classsize_data.csv'\n",
    "if not os.path.exists(merged_csv_file): \n",
    "\n",
    "    # if not, merge DataFrames\n",
    "    merged_df = pd.concat(dfs_to_merge, ignore_index=True)\n",
    "\n",
    "    # save merged DataFrame\n",
    "    merged_csv_file = 'merged_classsize_data.csv'\n",
    "    merged_df.to_csv(merged_csv_file, index=False)\n",
    "    \n",
    "    print (\"Merged CSV file saved.\")\n",
    "else:\n",
    "    print(\"Merged CSV file already exists.\")\n"
   ]
  },
  {
   "cell_type": "code",
   "execution_count": 4,
   "id": "07b3107c",
   "metadata": {
    "scrolled": true
   },
   "outputs": [
    {
     "name": "stdout",
     "output_type": "stream",
     "text": [
      "Merged CSV file already exists.\n"
     ]
    }
   ],
   "source": [
    "# as above, merge all pupil-teacher ratio (PTR) csv files in a new csv file\n",
    "\n",
    "# get the directory where the Jupyter Notebook is located\n",
    "notebook_directory = os.getcwd()\n",
    "\n",
    "# specify the names of the CSV files to merge\n",
    "files_to_merge = ['2016_2017_avg_classsize_school_PTR.csv', '2017_2018_avg_classsize_school_PTR.csv', '2018_2019-avg-class-size-school_PTR.csv', '2019_2020_avg_classsize_school_PTR.csv', '2020_2021_avg_classsize_school_Ratio.csv', '2021_2022_avg_classsize_school_PTR.csv', '2022_2023_avg_classsize_school_PTR.csv']\n",
    "\n",
    "# create an empty list to store data frames for the files to merge\n",
    "dfs_to_merge = []\n",
    "\n",
    "# read the CSV files to merge\n",
    "for file_to_merge in files_to_merge:\n",
    "    # Read CSV file into DataFrame\n",
    "    df = pd.read_csv(os.path.join(notebook_directory, file_to_merge))\n",
    "    # Append DataFrame to list\n",
    "    dfs_to_merge.append(df)\n",
    "\n",
    "# check if the merged class size CSV file already exists\n",
    "merged_csv_file = 'merged_PTR_data.csv'\n",
    "if not os.path.exists(merged_csv_file): \n",
    "\n",
    "    # if not, merge DataFrames\n",
    "    merged_df = pd.concat(dfs_to_merge, ignore_index=True)\n",
    "\n",
    "    # save merged DataFrame\n",
    "    merged_csv_file = 'merged_PTR_data.csv'\n",
    "    merged_df.to_csv(merged_csv_file, index=False)\n",
    "    \n",
    "    print (\"Merged CSV file saved.\")\n",
    "else:\n",
    "    print(\"Merged CSV file already exists.\")\n"
   ]
  },
  {
   "cell_type": "markdown",
   "id": "2b0c902d",
   "metadata": {},
   "source": [
    "## 2. Data Cleaning"
   ]
  },
  {
   "cell_type": "markdown",
   "id": "3bd0d1c9",
   "metadata": {},
   "source": [
    "To prepare the attendance data for analysis, we need to first clean and transform the data where necessary.\n",
    "\n",
    "We will check each of the three CSV files for the following:\n",
    "\n",
    "1. Blanks (missing values)\n",
    "2. Data types\n",
    "3. Duplicates\n",
    "4. Standardized naming conventions\n",
    "5. Value and category consistency within and between the datasets (school names, grades, etc)\n",
    "6. Validity (grades, % within expected ranges)\n",
    "7. Typos and errors\n",
    "\n",
    "Then, we need to find the following data per school for the total period of analysis:\n",
    "(1) the average chronic absenteeism rate,\n",
    "(2) the average class size, and \n",
    "(3) the average pupil-student ratio.\n"
   ]
  },
  {
   "cell_type": "code",
   "execution_count": 5,
   "id": "ab9d44d9",
   "metadata": {},
   "outputs": [
    {
     "name": "stdout",
     "output_type": "stream",
     "text": [
      "Attendance Data\n",
      "<class 'pandas.core.frame.DataFrame'>\n",
      "RangeIndex: 75365 entries, 0 to 75364\n",
      "Data columns (total 13 columns):\n",
      " #   Column                                         Non-Null Count  Dtype  \n",
      "---  ------                                         --------------  -----  \n",
      " 0   dbn                                            75365 non-null  object \n",
      " 1   school_name                                    75365 non-null  object \n",
      " 2   grade                                          75365 non-null  object \n",
      " 3   category                                       75365 non-null  object \n",
      " 4   year                                           75365 non-null  int64  \n",
      " 5   #_total_days                                   75365 non-null  int64  \n",
      " 6   #_days_absent                                  75365 non-null  int64  \n",
      " 7   #_days_present                                 75365 non-null  int64  \n",
      " 8   %_attendance                                   75365 non-null  float64\n",
      " 9   #_contributing_10+_total_days_and_1+_pres_day  75365 non-null  int64  \n",
      " 10  #_chronically_absent                           75365 non-null  int64  \n",
      " 11  %_chronically_absent                           75365 non-null  float64\n",
      " 12  year_grade                                     75365 non-null  object \n",
      "dtypes: float64(2), int64(6), object(5)\n",
      "memory usage: 7.5+ MB\n",
      "\n",
      "Class Size Data\n",
      "<class 'pandas.core.frame.DataFrame'>\n",
      "RangeIndex: 224582 entries, 0 to 224581\n",
      "Data columns (total 12 columns):\n",
      " #   Column              Non-Null Count   Dtype  \n",
      "---  ------              --------------   -----  \n",
      " 0   School Year         224582 non-null  object \n",
      " 1   DBN                 224582 non-null  object \n",
      " 2   School Name         224582 non-null  object \n",
      " 3   Grade Level         224582 non-null  object \n",
      " 4   Program Type        224582 non-null  object \n",
      " 5   Number of Students  224582 non-null  int64  \n",
      " 6   Number of Classes   224582 non-null  int64  \n",
      " 7   Average Class Size  224582 non-null  float64\n",
      " 8   Minimum Class Size  224582 non-null  object \n",
      " 9   Maximum Class Size  224582 non-null  object \n",
      " 10  Department          118926 non-null  object \n",
      " 11  Subject             118926 non-null  object \n",
      "dtypes: float64(1), int64(2), object(9)\n",
      "memory usage: 20.6+ MB\n",
      "\n",
      "PTR\n",
      "<class 'pandas.core.frame.DataFrame'>\n",
      "RangeIndex: 10700 entries, 0 to 10699\n",
      "Data columns (total 4 columns):\n",
      " #   Column                      Non-Null Count  Dtype  \n",
      "---  ------                      --------------  -----  \n",
      " 0   School Year                 10700 non-null  object \n",
      " 1   DBN                         10700 non-null  object \n",
      " 2   School Name                 10700 non-null  object \n",
      " 3   School Pupil-Teacher Ratio  10700 non-null  float64\n",
      "dtypes: float64(1), object(3)\n",
      "memory usage: 334.5+ KB\n",
      "\n"
     ]
    }
   ],
   "source": [
    "# first, let's have a look at some of the dataframes' characteristics\n",
    "\n",
    "# load the CSV files into a dataframe\n",
    "df_attendance = pd.read_csv('clean_dataset_school_all.csv')\n",
    "df_classsize = pd.read_csv('merged_classsize_data.csv')\n",
    "df_PTR = pd.read_csv('merged_PTR_data.csv')\n",
    "\n",
    "# explore the dataframe\n",
    "print('Attendance Data')\n",
    "df_attendance.info()\n",
    "print('')\n",
    "\n",
    "print('Class Size Data')\n",
    "df_classsize.info()\n",
    "print('')\n",
    "       \n",
    "print('PTR')\n",
    "df_PTR.info()\n",
    "print('')"
   ]
  },
  {
   "cell_type": "markdown",
   "id": "c4617f30",
   "metadata": {},
   "source": [
    "We will change the column names to standardize them and make them easier to work with.\n",
    "\n",
    "There are missing values only in the class size data in the department and subject columns. We can drop these as we won't use them in the analysis anyway.\n",
    "\n",
    "There are columns in the attendance and the class size data that we will use in the analysis are strings instead of numeric data types.\n"
   ]
  },
  {
   "cell_type": "code",
   "execution_count": 6,
   "id": "60aa7f0e",
   "metadata": {},
   "outputs": [
    {
     "name": "stdout",
     "output_type": "stream",
     "text": [
      "Attendance Data\n",
      "<class 'pandas.core.frame.DataFrame'>\n",
      "RangeIndex: 75365 entries, 0 to 75364\n",
      "Data columns (total 13 columns):\n",
      " #   Column                                         Non-Null Count  Dtype  \n",
      "---  ------                                         --------------  -----  \n",
      " 0   dbn                                            75365 non-null  object \n",
      " 1   school_name                                    75365 non-null  object \n",
      " 2   grade                                          75365 non-null  object \n",
      " 3   category                                       75365 non-null  object \n",
      " 4   year                                           75365 non-null  int64  \n",
      " 5   #_total_days                                   75365 non-null  int64  \n",
      " 6   #_days_absent                                  75365 non-null  int64  \n",
      " 7   #_days_present                                 75365 non-null  int64  \n",
      " 8   %_attendance                                   75365 non-null  float64\n",
      " 9   #_contributing_10+_total_days_and_1+_pres_day  75365 non-null  int64  \n",
      " 10  #_chronically_absent                           75365 non-null  int64  \n",
      " 11  %_chronically_absent                           75365 non-null  float64\n",
      " 12  year_grade                                     75365 non-null  object \n",
      "dtypes: float64(2), int64(6), object(5)\n",
      "memory usage: 7.5+ MB\n",
      "\n",
      "Class Size Data\n",
      "<class 'pandas.core.frame.DataFrame'>\n",
      "RangeIndex: 224582 entries, 0 to 224581\n",
      "Data columns (total 12 columns):\n",
      " #   Column              Non-Null Count   Dtype  \n",
      "---  ------              --------------   -----  \n",
      " 0   school_year         224582 non-null  object \n",
      " 1   dbn                 224582 non-null  object \n",
      " 2   school_name         224582 non-null  object \n",
      " 3   grade_level         224582 non-null  object \n",
      " 4   program_type        224582 non-null  object \n",
      " 5   number_of_students  224582 non-null  int64  \n",
      " 6   number_of_classes   224582 non-null  int64  \n",
      " 7   average_class_size  224582 non-null  float64\n",
      " 8   minimum_class_size  224582 non-null  object \n",
      " 9   maximum_class_size  224582 non-null  object \n",
      " 10  department          118926 non-null  object \n",
      " 11  subject             118926 non-null  object \n",
      "dtypes: float64(1), int64(2), object(9)\n",
      "memory usage: 20.6+ MB\n",
      "\n",
      "PTR\n",
      "<class 'pandas.core.frame.DataFrame'>\n",
      "RangeIndex: 10700 entries, 0 to 10699\n",
      "Data columns (total 4 columns):\n",
      " #   Column                      Non-Null Count  Dtype  \n",
      "---  ------                      --------------  -----  \n",
      " 0   school_year                 10700 non-null  object \n",
      " 1   dbn                         10700 non-null  object \n",
      " 2   school_name                 10700 non-null  object \n",
      " 3   school_pupil-teacher_ratio  10700 non-null  float64\n",
      "dtypes: float64(1), object(3)\n",
      "memory usage: 334.5+ KB\n",
      "\n"
     ]
    }
   ],
   "source": [
    "# clean column names\n",
    "df_attendance.columns = df_attendance.columns.str.lower().str.replace(' ', '_')\n",
    "df_classsize.columns = df_classsize.columns.str.lower().str.replace(' ', '_')\n",
    "df_PTR.columns = df_PTR.columns.str.lower().str.replace(' ', '_')\n",
    "\n",
    "# check result\n",
    "print('Attendance Data')\n",
    "df_attendance.info()\n",
    "print('')\n",
    "\n",
    "print('Class Size Data')\n",
    "df_classsize.info()\n",
    "print('')\n",
    "       \n",
    "print('PTR')\n",
    "df_PTR.info()\n",
    "print('')\n"
   ]
  },
  {
   "cell_type": "code",
   "execution_count": 7,
   "id": "b204261b",
   "metadata": {},
   "outputs": [
    {
     "name": "stdout",
     "output_type": "stream",
     "text": [
      "<class 'pandas.core.frame.DataFrame'>\n",
      "RangeIndex: 224582 entries, 0 to 224581\n",
      "Data columns (total 10 columns):\n",
      " #   Column              Non-Null Count   Dtype  \n",
      "---  ------              --------------   -----  \n",
      " 0   school_year         224582 non-null  object \n",
      " 1   dbn                 224582 non-null  object \n",
      " 2   school_name         224582 non-null  object \n",
      " 3   grade_level         224582 non-null  object \n",
      " 4   program_type        224582 non-null  object \n",
      " 5   number_of_students  224582 non-null  int64  \n",
      " 6   number_of_classes   224582 non-null  int64  \n",
      " 7   average_class_size  224582 non-null  float64\n",
      " 8   minimum_class_size  224582 non-null  object \n",
      " 9   maximum_class_size  224582 non-null  object \n",
      "dtypes: float64(1), int64(2), object(7)\n",
      "memory usage: 17.1+ MB\n"
     ]
    }
   ],
   "source": [
    "# drop the class size columns with missing values that we don't need for our analysis\n",
    "df_classsize.drop(columns=['department', 'subject'], inplace=True)\n",
    "\n",
    "# check result\n",
    "df_classsize.info()"
   ]
  },
  {
   "cell_type": "markdown",
   "id": "800b8812",
   "metadata": {},
   "source": [
    "Trying to convert the column to numeric data type I get an error that there is a value 's' that cannot be converted to integer. \n",
    "\n",
    "\"In order to comply with the Family Educational Rights and Privacy Act (FERPA) regulations on public reporting of education outcomes, rows with five or fewer students are suppressed, and have been replaced with an \"s\". \n",
    "\n",
    "Using total days of attendance as a proxy , rows with 900 or fewer total days are suppressed. In addition, other rows have been replaced with an \"s\" when they could reveal, through addition or subtraction, the underlying numbers that have been redacted. Chronic absenteeism values are suppressed, regardless of total days, if the number of students who contribute  at least 20 days is five or fewer.\"\n"
   ]
  },
  {
   "cell_type": "code",
   "execution_count": 8,
   "id": "1164a41f",
   "metadata": {},
   "outputs": [
    {
     "data": {
      "text/plain": [
       "array(['2016', '2017', '2018', '2019', '2020', '2021', '2022'],\n",
       "      dtype=object)"
      ]
     },
     "execution_count": 8,
     "metadata": {},
     "output_type": "execute_result"
    }
   ],
   "source": [
    "# clean the school year codes in the class size dataset\n",
    "df_classsize['school_year'] = df_classsize['school_year'].replace({'2016-2017': '2016', '2017-2018': '2017', \n",
    "                                                       '2018-2019': '2018', '2019-2020': '2019', \n",
    "                                                       '2020-2021': '2020', '2021-2022': '2021', \n",
    "                                                       '2022-2023': '2022'})\n",
    "\n",
    "# check result\n",
    "df_classsize['school_year'].unique()"
   ]
  },
  {
   "cell_type": "code",
   "execution_count": 9,
   "id": "aa259450",
   "metadata": {},
   "outputs": [
    {
     "data": {
      "text/plain": [
       "array(['2016', '2017', '2018', '2019', '2020', '2021', '2022'],\n",
       "      dtype=object)"
      ]
     },
     "execution_count": 9,
     "metadata": {},
     "output_type": "execute_result"
    }
   ],
   "source": [
    "# clean the school year codes in the PTR dataset\n",
    "\n",
    "df_PTR['school_year'] = df_PTR['school_year'].replace({'2016-2017': '2016', '2017-2018': '2017', \n",
    "                                                       '2018-2019': '2018', '2019-2020': '2019', \n",
    "                                                       '2020-2021': '2020', '2021-2022': '2021', \n",
    "                                                       '2022-2023': '2022'})\n",
    "\n",
    "# check result\n",
    "df_PTR['school_year'].unique()"
   ]
  },
  {
   "cell_type": "code",
   "execution_count": 10,
   "id": "64e7eeec",
   "metadata": {},
   "outputs": [
    {
     "name": "stdout",
     "output_type": "stream",
     "text": [
      "df_classsize:\n",
      "<class 'pandas.core.frame.DataFrame'>\n",
      "RangeIndex: 224582 entries, 0 to 224581\n",
      "Data columns (total 10 columns):\n",
      " #   Column              Non-Null Count   Dtype  \n",
      "---  ------              --------------   -----  \n",
      " 0   school_year         224582 non-null  int64  \n",
      " 1   dbn                 224582 non-null  object \n",
      " 2   school_name         224582 non-null  object \n",
      " 3   grade_level         224582 non-null  object \n",
      " 4   program_type        224582 non-null  object \n",
      " 5   number_of_students  224582 non-null  int64  \n",
      " 6   number_of_classes   224582 non-null  int64  \n",
      " 7   average_class_size  224582 non-null  float64\n",
      " 8   minimum_class_size  224582 non-null  int64  \n",
      " 9   maximum_class_size  224582 non-null  int64  \n",
      "dtypes: float64(1), int64(5), object(4)\n",
      "memory usage: 17.1+ MB\n",
      "None\n",
      "\n",
      "df_PTR:\n",
      "<class 'pandas.core.frame.DataFrame'>\n",
      "RangeIndex: 10700 entries, 0 to 10699\n",
      "Data columns (total 4 columns):\n",
      " #   Column                      Non-Null Count  Dtype  \n",
      "---  ------                      --------------  -----  \n",
      " 0   school_year                 10700 non-null  int64  \n",
      " 1   dbn                         10700 non-null  object \n",
      " 2   school_name                 10700 non-null  object \n",
      " 3   school_pupil-teacher_ratio  10700 non-null  float64\n",
      "dtypes: float64(1), int64(1), object(2)\n",
      "memory usage: 334.5+ KB\n",
      "None\n"
     ]
    }
   ],
   "source": [
    "# define the class size columns to integer\n",
    "columns_to_convert_classsize_int = ['minimum_class_size', 'maximum_class_size', 'school_year']\n",
    "\n",
    "# define the PTR columns to convert to integer\n",
    "columns_to_convert_PTR_int = ['school_year']\n",
    "\n",
    "# concatenate the lists of columns\n",
    "columns_to_convert_int = columns_to_convert_classsize_int + columns_to_convert_PTR_int\n",
    "\n",
    "# define a function to convert columns to integer\n",
    "def convert_columns_to_int(df, columns_to_convert_int):\n",
    "    for col in columns_to_convert_int:\n",
    "        df[col] = pd.to_numeric(df[col], errors='coerce').fillna(0).astype(int)\n",
    "    return df\n",
    "\n",
    "# apply the function\n",
    "df_classsize = convert_columns_to_int(df_classsize, columns_to_convert_classsize_int)\n",
    "df_PTR = convert_columns_to_int(df_PTR, columns_to_convert_PTR_int)\n",
    "\n",
    "# check results\n",
    "print(\"df_classsize:\")\n",
    "print(df_classsize.info())\n",
    "print('')\n",
    "print(\"df_PTR:\")\n",
    "print(df_PTR.info())"
   ]
  },
  {
   "cell_type": "code",
   "execution_count": 11,
   "id": "1cb8fdbd",
   "metadata": {},
   "outputs": [
    {
     "name": "stdout",
     "output_type": "stream",
     "text": [
      "Attendance data - no duplicates found.\n",
      "Class size data - duplicates found.\n",
      "PTR data - no duplicates found.\n"
     ]
    }
   ],
   "source": [
    "# check for duplicates\n",
    "duplicates_attendance = df_attendance[df_attendance.duplicated()]\n",
    "duplicates_classsize = df_classsize[df_classsize.duplicated()]\n",
    "duplicates_PTR = df_PTR[df_PTR.duplicated()]\n",
    "\n",
    "# see results\n",
    "if duplicates_attendance.empty:\n",
    "    print(\"Attendance data - no duplicates found.\")\n",
    "else:\n",
    "    print(\"Attendance data - duplicates found.\")\n",
    "if duplicates_classsize.empty:\n",
    "    print(\"Class size data - no duplicates found.\")\n",
    "else:\n",
    "    print(\"Class size data - duplicates found.\")\n",
    "if duplicates_PTR.empty:\n",
    "    print(\"PTR data - no duplicates found.\")\n",
    "else:\n",
    "    print(\"PTR data - duplicates found.\")"
   ]
  },
  {
   "cell_type": "code",
   "execution_count": 12,
   "id": "525e8d8b",
   "metadata": {},
   "outputs": [
    {
     "name": "stdout",
     "output_type": "stream",
     "text": [
      "No duplicates found.\n"
     ]
    }
   ],
   "source": [
    "# drop the duplicates in the class size data\n",
    "df_classsize.drop_duplicates(inplace=True)\n",
    "\n",
    "# check the result\n",
    "duplicates_classsize = df_classsize[df_classsize.duplicated()]\n",
    "if duplicates_classsize.empty:\n",
    "    print(\"No duplicates found.\")\n",
    "else:\n",
    "    print(\"Duplicates found.\")"
   ]
  },
  {
   "cell_type": "code",
   "execution_count": 13,
   "id": "de2e4ad3",
   "metadata": {},
   "outputs": [
    {
     "name": "stdout",
     "output_type": "stream",
     "text": [
      "No negative values found in numeric columns.\n",
      "No negative values found in numeric columns.\n",
      "No negative values found in numeric columns.\n"
     ]
    }
   ],
   "source": [
    "# check for negative values\n",
    "def check_negative_values(df):\n",
    "    numeric_cols = df.select_dtypes(include=['number']).columns\n",
    "    negative_values = df[numeric_cols].lt(0).any()\n",
    "    if negative_values.any():\n",
    "        print(\"Negative values found in numeric columns:\")\n",
    "        print(negative_values[negative_values].index.tolist())\n",
    "    else:\n",
    "        print(\"No negative values found in numeric columns.\")\n",
    "\n",
    "check_negative_values(df_attendance)\n",
    "check_negative_values(df_classsize)\n",
    "check_negative_values(df_PTR)\n"
   ]
  },
  {
   "cell_type": "code",
   "execution_count": 14,
   "id": "84c4f30c",
   "metadata": {
    "scrolled": true
   },
   "outputs": [
    {
     "name": "stdout",
     "output_type": "stream",
     "text": [
      "Attendance           dbn                                school_name grade      category  \\\n",
      "5648   03M859                       Special Music School     5  All Students   \n",
      "65424  19K678  East New York Middle School of Excellence     8  All Students   \n",
      "5611   03M541     Manhattan / Hunter Science High School    12  All Students   \n",
      "4503   03M087                   P.S. 087 William Sherman    0K  All Students   \n",
      "65420  19K678  East New York Middle School of Excellence     6  All Students   \n",
      "\n",
      "       year  #_total_days  #_days_absent  #_days_present  %_attendance  \\\n",
      "5648   2020          2438              3            2435     99.876946   \n",
      "65424  2021         14011             20           13991     99.857254   \n",
      "5611   2018         17219             36           17183     99.790932   \n",
      "4503   2020         19904             52           19852     99.738747   \n",
      "65420  2021         14635             42           14593     99.713020   \n",
      "\n",
      "       #_contributing_10+_total_days_and_1+_pres_day  #_chronically_absent  \\\n",
      "5648                                              14                     0   \n",
      "65424                                             83                     0   \n",
      "5611                                             103                     1   \n",
      "4503                                             120                     0   \n",
      "65420                                             89                     1   \n",
      "\n",
      "       %_chronically_absent year_grade  \n",
      "5648               0.000000     2020_5  \n",
      "65424              0.000000     2021_8  \n",
      "5611               0.970874    2018_12  \n",
      "4503               0.000000    2020_0K  \n",
      "65420              1.123595     2021_6  \n",
      "\n",
      "Chronically Absent           dbn                                        school_name grade  \\\n",
      "20363  12X321                        Crotona Academy High School    10   \n",
      "51647  75M721  P.S. M721 - Manhattan Occupational Training Ce...     8   \n",
      "50668  75K141                                          P.S. K141     9   \n",
      "50671  75K141                                          P.S. K141     9   \n",
      "62256  13K594                   Gotham Professional Arts Academy    12   \n",
      "\n",
      "           category  year  #_total_days  #_days_absent  #_days_present  \\\n",
      "20363  All Students  2016          2741           1891             850   \n",
      "51647  All Students  2019          1430            342            1088   \n",
      "50668  All Students  2017          2440            817            1623   \n",
      "50671  All Students  2020          1723            694            1029   \n",
      "62256  All Students  2021          5308           2222            3086   \n",
      "\n",
      "       %_attendance  #_contributing_10+_total_days_and_1+_pres_day  \\\n",
      "20363     31.010580                                             20   \n",
      "51647     76.083916                                             14   \n",
      "50668     66.516396                                             14   \n",
      "50671     59.721416                                             10   \n",
      "62256     58.138660                                             32   \n",
      "\n",
      "       #_chronically_absent  %_chronically_absent year_grade  \n",
      "20363                    20                 100.0    2016_10  \n",
      "51647                    14                 100.0     2019_8  \n",
      "50668                    14                 100.0     2017_9  \n",
      "50671                    10                 100.0     2020_9  \n",
      "62256                    32                 100.0    2021_12  \n"
     ]
    }
   ],
   "source": [
    "# check for % values over 100\n",
    "\n",
    "print(\"Attendance\", df_attendance.sort_values(by='%_attendance', ascending=False).head())\n",
    "print('')\n",
    "print(\"Chronically Absent\", df_attendance.sort_values(by='%_chronically_absent', ascending=False).head())"
   ]
  },
  {
   "cell_type": "code",
   "execution_count": 15,
   "id": "1e497273",
   "metadata": {},
   "outputs": [
    {
     "data": {
      "text/html": [
       "<div>\n",
       "<style scoped>\n",
       "    .dataframe tbody tr th:only-of-type {\n",
       "        vertical-align: middle;\n",
       "    }\n",
       "\n",
       "    .dataframe tbody tr th {\n",
       "        vertical-align: top;\n",
       "    }\n",
       "\n",
       "    .dataframe thead th {\n",
       "        text-align: right;\n",
       "    }\n",
       "</style>\n",
       "<table border=\"1\" class=\"dataframe\">\n",
       "  <thead>\n",
       "    <tr style=\"text-align: right;\">\n",
       "      <th></th>\n",
       "      <th>dbn</th>\n",
       "      <th>school_name</th>\n",
       "      <th>grade</th>\n",
       "      <th>category</th>\n",
       "      <th>school_year</th>\n",
       "      <th>#_total_days</th>\n",
       "      <th>#_days_absent</th>\n",
       "      <th>#_days_present</th>\n",
       "      <th>%_attendance</th>\n",
       "      <th>#_contributing_10+_total_days_and_1+_pres_day</th>\n",
       "      <th>#_chronically_absent</th>\n",
       "      <th>%_chronically_absent</th>\n",
       "      <th>year_grade</th>\n",
       "    </tr>\n",
       "  </thead>\n",
       "  <tbody>\n",
       "    <tr>\n",
       "      <th>0</th>\n",
       "      <td>01M015</td>\n",
       "      <td>P.S. 015 Roberto Clemente</td>\n",
       "      <td>All Grades</td>\n",
       "      <td>All Students</td>\n",
       "      <td>2016</td>\n",
       "      <td>30601</td>\n",
       "      <td>1994</td>\n",
       "      <td>28607</td>\n",
       "      <td>93.483871</td>\n",
       "      <td>196</td>\n",
       "      <td>51</td>\n",
       "      <td>26.020409</td>\n",
       "      <td>2016_All Grades</td>\n",
       "    </tr>\n",
       "    <tr>\n",
       "      <th>1</th>\n",
       "      <td>01M015</td>\n",
       "      <td>P.S. 015 Roberto Clemente</td>\n",
       "      <td>All Grades</td>\n",
       "      <td>All Students</td>\n",
       "      <td>2017</td>\n",
       "      <td>33264</td>\n",
       "      <td>2078</td>\n",
       "      <td>31186</td>\n",
       "      <td>93.753006</td>\n",
       "      <td>196</td>\n",
       "      <td>37</td>\n",
       "      <td>18.877550</td>\n",
       "      <td>2017_All Grades</td>\n",
       "    </tr>\n",
       "    <tr>\n",
       "      <th>2</th>\n",
       "      <td>01M015</td>\n",
       "      <td>P.S. 015 Roberto Clemente</td>\n",
       "      <td>All Grades</td>\n",
       "      <td>All Students</td>\n",
       "      <td>2018</td>\n",
       "      <td>30887</td>\n",
       "      <td>2278</td>\n",
       "      <td>28609</td>\n",
       "      <td>92.624725</td>\n",
       "      <td>192</td>\n",
       "      <td>47</td>\n",
       "      <td>24.479166</td>\n",
       "      <td>2018_All Grades</td>\n",
       "    </tr>\n",
       "    <tr>\n",
       "      <th>3</th>\n",
       "      <td>01M015</td>\n",
       "      <td>P.S. 015 Roberto Clemente</td>\n",
       "      <td>All Grades</td>\n",
       "      <td>All Students</td>\n",
       "      <td>2019</td>\n",
       "      <td>21101</td>\n",
       "      <td>1500</td>\n",
       "      <td>19601</td>\n",
       "      <td>92.891335</td>\n",
       "      <td>204</td>\n",
       "      <td>58</td>\n",
       "      <td>28.431372</td>\n",
       "      <td>2019_All Grades</td>\n",
       "    </tr>\n",
       "    <tr>\n",
       "      <th>4</th>\n",
       "      <td>01M015</td>\n",
       "      <td>P.S. 015 Roberto Clemente</td>\n",
       "      <td>All Grades</td>\n",
       "      <td>All Students</td>\n",
       "      <td>2020</td>\n",
       "      <td>32686</td>\n",
       "      <td>3931</td>\n",
       "      <td>28755</td>\n",
       "      <td>87.973442</td>\n",
       "      <td>199</td>\n",
       "      <td>84</td>\n",
       "      <td>42.211056</td>\n",
       "      <td>2020_All Grades</td>\n",
       "    </tr>\n",
       "  </tbody>\n",
       "</table>\n",
       "</div>"
      ],
      "text/plain": [
       "      dbn                school_name       grade      category  school_year  \\\n",
       "0  01M015  P.S. 015 Roberto Clemente  All Grades  All Students         2016   \n",
       "1  01M015  P.S. 015 Roberto Clemente  All Grades  All Students         2017   \n",
       "2  01M015  P.S. 015 Roberto Clemente  All Grades  All Students         2018   \n",
       "3  01M015  P.S. 015 Roberto Clemente  All Grades  All Students         2019   \n",
       "4  01M015  P.S. 015 Roberto Clemente  All Grades  All Students         2020   \n",
       "\n",
       "   #_total_days  #_days_absent  #_days_present  %_attendance  \\\n",
       "0         30601           1994           28607     93.483871   \n",
       "1         33264           2078           31186     93.753006   \n",
       "2         30887           2278           28609     92.624725   \n",
       "3         21101           1500           19601     92.891335   \n",
       "4         32686           3931           28755     87.973442   \n",
       "\n",
       "   #_contributing_10+_total_days_and_1+_pres_day  #_chronically_absent  \\\n",
       "0                                            196                    51   \n",
       "1                                            196                    37   \n",
       "2                                            192                    47   \n",
       "3                                            204                    58   \n",
       "4                                            199                    84   \n",
       "\n",
       "   %_chronically_absent       year_grade  \n",
       "0             26.020409  2016_All Grades  \n",
       "1             18.877550  2017_All Grades  \n",
       "2             24.479166  2018_All Grades  \n",
       "3             28.431372  2019_All Grades  \n",
       "4             42.211056  2020_All Grades  "
      ]
     },
     "execution_count": 15,
     "metadata": {},
     "output_type": "execute_result"
    }
   ],
   "source": [
    "# harmonize the names of the year columns\n",
    "df_attendance = df_attendance.rename(columns={'year': 'school_year'})\n",
    "\n",
    "# check result\n",
    "df_attendance.head()"
   ]
  },
  {
   "cell_type": "code",
   "execution_count": 16,
   "id": "a621d41d",
   "metadata": {},
   "outputs": [],
   "source": [
    "# clean any leading or trailing whitespace characters in string columns\n",
    "\n",
    "dataframes = [df_attendance, df_classsize, df_PTR]\n",
    "\n",
    "def clean_whitespace(df):\n",
    "    return df.applymap(lambda x: x.strip() if isinstance(x, str) else x)\n",
    "\n",
    "dataframes = [clean_whitespace(df) for df in dataframes]\n"
   ]
  },
  {
   "cell_type": "markdown",
   "id": "161a59e6",
   "metadata": {},
   "source": [
    "## 3. Data Transformation"
   ]
  },
  {
   "cell_type": "code",
   "execution_count": 17,
   "id": "d4aa3530",
   "metadata": {},
   "outputs": [
    {
     "data": {
      "text/plain": [
       "False"
      ]
     },
     "execution_count": 17,
     "metadata": {},
     "output_type": "execute_result"
    }
   ],
   "source": [
    "# check if the DBN names match in the three dataframes (as there are duplicates in the school names, we will use \n",
    "# the school unique identification number instead)\n",
    "\n",
    "set(df_attendance['dbn'].unique()) == set(df_classsize['dbn'].unique()) == set(df_PTR['dbn'].unique())\n"
   ]
  },
  {
   "cell_type": "code",
   "execution_count": 18,
   "id": "5751c962",
   "metadata": {},
   "outputs": [
    {
     "name": "stdout",
     "output_type": "stream",
     "text": [
      "Number of mismatched values between attendance and class size: 78\n",
      "Number of mismatched values between attendance and PTR: 77\n",
      "Number of mismatched values between classsize and PTR: 0\n"
     ]
    }
   ],
   "source": [
    "mismatch_count_attendance_classsize = len(set(df_attendance['dbn'].unique()).difference(set(df_classsize['dbn'].unique())))\n",
    "mismatch_count_attendance_PTR = len(set(df_attendance['dbn'].unique()).difference(set(df_PTR['dbn'].unique())))\n",
    "mismatch_count_classsize_PTR = len(set(df_classsize['dbn'].unique()).difference(set(df_PTR['dbn'].unique())))\n",
    "\n",
    "print(\"Number of mismatched values between attendance and class size:\", mismatch_count_attendance_classsize)\n",
    "print(\"Number of mismatched values between attendance and PTR:\", mismatch_count_attendance_PTR)\n",
    "print(\"Number of mismatched values between classsize and PTR:\", mismatch_count_classsize_PTR)\n"
   ]
  },
  {
   "cell_type": "code",
   "execution_count": 19,
   "id": "cdba8f79",
   "metadata": {},
   "outputs": [
    {
     "name": "stdout",
     "output_type": "stream",
     "text": [
      "Unique values in attendance and not in classsize: {'12X626', '75K053', '75M751', '75X352', '75X186', '75K370', '75M094', '16K393', '75R037', '75X721', '15K863', '10X535', '75K371', '75K373', '75K231', '75K141', '75Q075', '75Q277', '75K140', '75X010', '75X188', '75X168', '31R066', '75M079', '75M138', '30Q389', '75Q004', '75M226', '75K396', '13K869', '75R373', '75Q009', '07X533', '25Q409', '75M811', '75X017', '75Q255', '75X596', '75X012', '75K004', '27Q336', '02M391', '75M035', '28Q335', '75M169', '75Q177', '75Q256', '75K372', '75R025', '75R721', '75K811', '75X469', '75K753', '75X811', '21K840', '75K771', '75Q993', '29Q381', '75K369', '75Q721', '75X754', '75Q224', '75Q752', '20K768', '75Q023', '75Q233', '75X723', '75K036', '75X176', '09X582', '75K368', '75K721', '75Q811', '75M721', '15K767', '75K077', '22K853', '24Q331'}\n",
      "Unique values in attendance and not in PTR: {'12X626', '75K053', '75M751', '75X352', '75X186', '75K370', '75M094', '75R037', '75X721', '15K863', '10X535', '75K371', '75K373', '75K231', '75K141', '75Q075', '75Q277', '75K140', '75X010', '75X188', '75X168', '31R066', '75M079', '75M138', '30Q389', '75Q004', '75M226', '75K396', '13K869', '75R373', '75Q009', '07X533', '25Q409', '75M811', '75X017', '75Q255', '75X596', '75X012', '75K004', '27Q336', '02M391', '75M035', '28Q335', '75M169', '75Q177', '75Q256', '75K372', '75R025', '75R721', '75K811', '75X469', '75K753', '75X811', '21K840', '75K771', '75Q993', '29Q381', '75K369', '75Q721', '75X754', '75Q224', '75Q752', '20K768', '75Q023', '75Q233', '75X723', '75K036', '75X176', '09X582', '75K368', '75K721', '75Q811', '75M721', '15K767', '75K077', '22K853', '24Q331'}\n",
      "Unique values in classsize and not in PTR: set()\n"
     ]
    }
   ],
   "source": [
    "# find the unique values that don't match\n",
    "\n",
    "unique_values_attendance = set(df_attendance['dbn'].unique())\n",
    "unique_values_classsize = set(df_classsize['dbn'].unique())\n",
    "unique_values_PTR = set(df_PTR['dbn'].unique())\n",
    "\n",
    "values_only_in_attendance_classsize = unique_values_attendance - unique_values_classsize\n",
    "values_only_in_attendance_PTR = unique_values_attendance - unique_values_PTR\n",
    "values_only_in_classsize_PTR = unique_values_classsize - unique_values_PTR\n",
    "\n",
    "print(\"Unique values in attendance and not in classsize:\", values_only_in_attendance_classsize)\n",
    "print(\"Unique values in attendance and not in PTR:\", values_only_in_attendance_PTR)\n",
    "print(\"Unique values in classsize and not in PTR:\", values_only_in_classsize_PTR)\n"
   ]
  },
  {
   "cell_type": "markdown",
   "id": "c8c7f04b",
   "metadata": {},
   "source": [
    "Schools starting with code 75 are Special Education schools that do not seem to be included in the class size dataset. They are the majority of the mismatches between the datasets. We will need to drop them from the analysis while making clear in the conclusions that the data does not include Special Education schools."
   ]
  },
  {
   "cell_type": "code",
   "execution_count": 20,
   "id": "b0885637",
   "metadata": {},
   "outputs": [
    {
     "name": "stdout",
     "output_type": "stream",
     "text": [
      "Empty DataFrame\n",
      "Columns: [school_year, dbn, school_name, grade_level, program_type, number_of_students, number_of_classes, average_class_size, minimum_class_size, maximum_class_size]\n",
      "Index: []\n"
     ]
    }
   ],
   "source": [
    "# get rows where 'dbn' starts with '75'\n",
    "dbn_filtered = df_classsize[df_classsize['dbn'].str.startswith('75')]\n",
    "\n",
    "print(dbn_filtered)\n"
   ]
  },
  {
   "cell_type": "code",
   "execution_count": 21,
   "id": "56b85f5b",
   "metadata": {},
   "outputs": [
    {
     "name": "stdout",
     "output_type": "stream",
     "text": [
      "Unique values in attendance and not in classsize: {'30Q389', '12X626', '13K869', '07X533', '20K768', '16K393', '15K863', '25Q409', '10X535', '21K840', '09X582', '29Q381', '27Q336', '15K767', '31R066', '02M391', '22K853', '24Q331', '28Q335'}\n",
      "Unique values in attendance and not in df_PTR: {'30Q389', '12X626', '15K863', '25Q409', '29Q381', '13K869', '10X535', '27Q336', '15K767', '31R066', '21K840', '02M391', '22K853', '07X533', '24Q331', '09X582', '20K768', '28Q335'}\n",
      "Unique values in classsize and not in df_PTR: set()\n",
      "Number of mismatched values between attendance and class size: 19\n",
      "Number of mismatched values between attendance and df_PTR: 18\n",
      "Number of mismatched values between classsize and df_PTR: 0\n"
     ]
    }
   ],
   "source": [
    "# drop all rows in the class size data that start with 75\n",
    "df_attendance = df_attendance[~df_attendance['dbn'].str.startswith('75')]\n",
    "\n",
    "# check mismatch again\n",
    "unique_values_attendance = set(df_attendance['dbn'].unique())\n",
    "unique_values_classsize = set(df_classsize['dbn'].unique())\n",
    "unique_values_PTR = set(df_PTR['dbn'].unique())\n",
    "\n",
    "values_only_in_attendance_classsize = unique_values_attendance - unique_values_classsize\n",
    "values_only_in_attendance_PTR = unique_values_attendance - unique_values_PTR\n",
    "values_only_in_classsize_PTR = unique_values_classsize - unique_values_PTR\n",
    "\n",
    "print(\"Unique values in attendance and not in classsize:\", values_only_in_attendance_classsize)\n",
    "print(\"Unique values in attendance and not in df_PTR:\", values_only_in_attendance_PTR)\n",
    "print(\"Unique values in classsize and not in df_PTR:\", values_only_in_classsize_PTR)\n",
    "\n",
    "# calculate the number of schools that don't match between the two dataframes\n",
    "mismatch_count_attendance_classsize = len(set(df_attendance['dbn'].unique()).difference(set(df_classsize['dbn'].unique())))\n",
    "mismatch_count_attendance_PTR = len(set(df_attendance['dbn'].unique()).difference(set(df_PTR['dbn'].unique())))\n",
    "mismatch_count_classsize_PTR = len(set(df_classsize['dbn'].unique()).difference(set(df_PTR['dbn'].unique())))\n",
    "\n",
    "print(\"Number of mismatched values between attendance and class size:\", mismatch_count_attendance_classsize)\n",
    "print(\"Number of mismatched values between attendance and df_PTR:\", mismatch_count_attendance_PTR)\n",
    "print(\"Number of mismatched values between classsize and df_PTR:\", mismatch_count_classsize_PTR)\n"
   ]
  },
  {
   "cell_type": "code",
   "execution_count": 22,
   "id": "51c31eb9",
   "metadata": {},
   "outputs": [
    {
     "name": "stdout",
     "output_type": "stream",
     "text": [
      "Overlap between unique values in attendance and not in classsize and unique values in attendance and not in df_PTR: {'30Q389', '12X626', '15K863', '25Q409', '29Q381', '13K869', '10X535', '27Q336', '15K767', '31R066', '21K840', '02M391', '22K853', '07X533', '24Q331', '09X582', '20K768', '28Q335'}\n",
      "Number of values in the overlap: 18\n"
     ]
    }
   ],
   "source": [
    "# check if the mismatched values between attendance and class size and the PTR dataframes are the same\n",
    "\n",
    "overlap_values_attendance_classsize_PTR = values_only_in_attendance_classsize.intersection(values_only_in_attendance_PTR)\n",
    "print(\"Overlap between unique values in attendance and not in classsize and unique values in attendance and not in df_PTR:\", overlap_values_attendance_classsize_PTR)\n",
    "print(\"Number of values in the overlap:\", len(overlap_values_attendance_classsize_PTR))\n"
   ]
  },
  {
   "cell_type": "markdown",
   "id": "cf27d4b1",
   "metadata": {},
   "source": [
    "It looks like most of the schools missing are the same. Now the number is down to 19 mismatched schools. Checking the DBNs in Google, it looks like these are all Pre-K centers. \n",
    "\n",
    "As the data documentation explains, \"Overall attendance data include students in Districts 1-32 and 75 (Special Education). Students in District 79 (Alternative Schools & Programs), charter schools, home schooling, and home and hospital instruction are excluded. Pre-K data do not include NYC Early Education Centers or District Pre-K Centers; therefore, Pre-K data are limited to those who attend K-12 schools that offer Pre-K.\"\n",
    "\n",
    "Since the number is not significant, we can drop these from the analysis.\n"
   ]
  },
  {
   "cell_type": "markdown",
   "id": "074e3520",
   "metadata": {},
   "source": [
    "Next, we check if the grades and the school years overlap in the attendance and the class size data.\n",
    "\n",
    "There are no grades in the PTR dataframe but according to the documentation, the data covers the grades K-8.\n"
   ]
  },
  {
   "cell_type": "code",
   "execution_count": 23,
   "id": "05d19d18",
   "metadata": {},
   "outputs": [
    {
     "name": "stdout",
     "output_type": "stream",
     "text": [
      "Unique values in 'grade' column of df_attendance: ['0K', '1', '10', '11', '12', '2', '3', '4', '5', '6', '7', '8', '9', 'All Grades', 'PK in K-12 Schools']\n",
      "Unique values in 'grade_level' column of df_classsize: ['01', '02', '03', '04', '05', '06', '07', '08', '0K', '1', '2', '3', '4', '5', '6', '7', '8', 'HS Core', 'K', 'K-8 SC', 'MS Core']\n"
     ]
    }
   ],
   "source": [
    "# compare the grades in the attendance and class size grade columns\n",
    "\n",
    "unique_values_grade_attendance = sorted(set(df_attendance['grade'].unique()))\n",
    "unique_values_grade_level_classsize = sorted(set(df_classsize['grade_level'].unique()))\n",
    "\n",
    "print(\"Unique values in 'grade' column of df_attendance:\", unique_values_grade_attendance)\n",
    "print(\"Unique values in 'grade_level' column of df_classsize:\", unique_values_grade_level_classsize)\n"
   ]
  },
  {
   "cell_type": "markdown",
   "id": "2ec40be3",
   "metadata": {},
   "source": [
    "For our analysis we only want to check the correlation between chronic school absenteeism and class size for grades  0K (also encoded as K) to 12. Therefore, we will remove all other grades.\n",
    "\n",
    "In the attendance dataframe we will keep grades 0K-12. In the class size dataframe we will keep all grades. 0K-8, MS Core and HS Core (middle school (MS) and high school (HS) corresponding to grades 9-12).\n",
    "\n",
    "The SC classes refer to Special Class services provided in a self-contained classroom. All of the children in the class have IEPs with needs that cannot be met in a general education classroom. They are taught by special education teachers who provide specialized instruction. Source: https://www.schools.nyc.gov/learning/special-education/school-settings/district-schools#:~:text=Special%20Class%20Services,-Full%20or%20Part&text=Special%20Class%20(SC)%20services%20are,teachers%20who%20provide%20specialized%20instruction.\n",
    "\n",
    "As the attendance data includes all students, we will keep SC classes in the analysis to match the data in all the datasets."
   ]
  },
  {
   "cell_type": "code",
   "execution_count": 24,
   "id": "161641c4",
   "metadata": {},
   "outputs": [
    {
     "data": {
      "text/plain": [
       "array(['0K', '1', '2', '3', '4', '5', '6', '7', '8', '9', '10', '11',\n",
       "       '12'], dtype=object)"
      ]
     },
     "execution_count": 24,
     "metadata": {},
     "output_type": "execute_result"
    }
   ],
   "source": [
    "# delete all rows in the attendance dataframe with grades All Grades and PK in K-12 Schools\n",
    "df_attendance = df_attendance[~df_attendance['grade'].isin(['All Grades', 'PK in K-12 Schools'])]\n",
    "\n",
    "# check result\n",
    "df_attendance['grade'].unique()\n"
   ]
  },
  {
   "cell_type": "code",
   "execution_count": 25,
   "id": "a4cb577d",
   "metadata": {},
   "outputs": [
    {
     "data": {
      "text/plain": [
       "array(['0K', '1', '2', '3', '4', '5', '6', '7', '8', 'K-8 SC', 'MS Core',\n",
       "       'HS Core'], dtype=object)"
      ]
     },
     "execution_count": 25,
     "metadata": {},
     "output_type": "execute_result"
    }
   ],
   "source": [
    "# clean the grade codes in the class size dataset\n",
    "df_classsize['grade_level'] = df_classsize['grade_level'].replace({'01': '1', '02': '2', '03': '3', '04': '4', '05': '5', '06': '6', '07': '7', '08': '8', 'K': '0K'})\n",
    "\n",
    "# check result\n",
    "df_classsize['grade_level'].unique()\n"
   ]
  },
  {
   "cell_type": "markdown",
   "id": "9c3012c9",
   "metadata": {},
   "source": [
    "Check that the dataframes cover the same period."
   ]
  },
  {
   "cell_type": "code",
   "execution_count": 26,
   "id": "623d5d32",
   "metadata": {},
   "outputs": [
    {
     "name": "stdout",
     "output_type": "stream",
     "text": [
      "Unique values in 'school year' column of df_attendance: [2016, 2017, 2018, 2019, 2020, 2021, 2022]\n",
      "Unique values in 'school year' column of df_classsize: [2016, 2017, 2018, 2019, 2020, 2021, 2022]\n",
      "Unique values in 'school year' column of df_PTR: [2016, 2017, 2018, 2019, 2020, 2021, 2022]\n"
     ]
    }
   ],
   "source": [
    "# check if the datasets cover the same school year periods\n",
    "\n",
    "attendance_years = sorted(set(df_attendance['school_year'].unique()))\n",
    "classsize_years = sorted(set(df_classsize['school_year'].unique()))\n",
    "PTR_years = sorted(set(df_PTR['school_year'].unique()))\n",
    "\n",
    "print(\"Unique values in 'school year' column of df_attendance:\", attendance_years)\n",
    "print(\"Unique values in 'school year' column of df_classsize:\", classsize_years)\n",
    "print(\"Unique values in 'school year' column of df_PTR:\", PTR_years)"
   ]
  },
  {
   "cell_type": "code",
   "execution_count": 27,
   "id": "059fdfa4",
   "metadata": {},
   "outputs": [
    {
     "data": {
      "text/plain": [
       "True"
      ]
     },
     "execution_count": 27,
     "metadata": {},
     "output_type": "execute_result"
    }
   ],
   "source": [
    "set(df_attendance['school_year'].unique()) == set(df_classsize['school_year'].unique()) == set(df_PTR['school_year'].unique())"
   ]
  },
  {
   "cell_type": "markdown",
   "id": "2ffdca79",
   "metadata": {},
   "source": [
    "Finally, the attendance dataset does not have program type so we will choose all programs in the PTR and class size datasets."
   ]
  },
  {
   "cell_type": "code",
   "execution_count": 28,
   "id": "1c0aca99",
   "metadata": {},
   "outputs": [
    {
     "name": "stdout",
     "output_type": "stream",
     "text": [
      "Attendance dataset\n",
      "       dbn                school_name grade      category  school_year  \\\n",
      "10  01M015  P.S. 015 Roberto Clemente    0K  All Students         2016   \n",
      "11  01M015  P.S. 015 Roberto Clemente    0K  All Students         2017   \n",
      "12  01M015  P.S. 015 Roberto Clemente    0K  All Students         2018   \n",
      "13  01M015  P.S. 015 Roberto Clemente    0K  All Students         2019   \n",
      "14  01M015  P.S. 015 Roberto Clemente    0K  All Students         2020   \n",
      "\n",
      "    #_total_days  #_days_absent  #_days_present  %_attendance  \\\n",
      "10          4949            383            4566     92.261063   \n",
      "11          4968            359            4609     92.773750   \n",
      "12          3491            283            3208     91.893440   \n",
      "13          3091            288            2803     90.682625   \n",
      "14          4685            766            3919     83.649948   \n",
      "\n",
      "    #_contributing_10+_total_days_and_1+_pres_day  #_chronically_absent  \\\n",
      "10                                             31                    10   \n",
      "11                                             28                     8   \n",
      "12                                             22                     6   \n",
      "13                                             30                    15   \n",
      "14                                             29                    15   \n",
      "\n",
      "    %_chronically_absent year_grade     dbn_year  \n",
      "10             32.258064    2016_0K  01M015-2016  \n",
      "11             28.571428    2017_0K  01M015-2017  \n",
      "12             27.272728    2018_0K  01M015-2018  \n",
      "13             50.000000    2019_0K  01M015-2019  \n",
      "14             51.724136    2020_0K  01M015-2020  \n",
      "\n",
      "Class size dataset\n",
      "   school_year     dbn                school_name grade_level program_type  \\\n",
      "0         2016  01M015  P.S. 015 ROBERTO CLEMENTE          0K          ICT   \n",
      "1         2016  01M015  P.S. 015 ROBERTO CLEMENTE           1          G&T   \n",
      "2         2016  01M015  P.S. 015 ROBERTO CLEMENTE           1          ICT   \n",
      "3         2016  01M015  P.S. 015 ROBERTO CLEMENTE           2          G&T   \n",
      "4         2016  01M015  P.S. 015 ROBERTO CLEMENTE           2          ICT   \n",
      "\n",
      "   number_of_students  number_of_classes  average_class_size  \\\n",
      "0                  23                  1                23.0   \n",
      "1                  15                  1                15.0   \n",
      "2                  18                  1                18.0   \n",
      "3                   9                  1                 9.0   \n",
      "4                  18                  1                18.0   \n",
      "\n",
      "   minimum_class_size  maximum_class_size     dbn_year  \n",
      "0                  23                  23  01M015-2016  \n",
      "1                  15                  15  01M015-2016  \n",
      "2                  18                  18  01M015-2016  \n",
      "3                   9                   9  01M015-2016  \n",
      "4                  18                  18  01M015-2016  \n",
      "\n",
      "Pupil-teacher ratio dataset\n",
      "   school_year     dbn                     school_name  \\\n",
      "0         2016  01M015       P.S. 015 ROBERTO CLEMENTE   \n",
      "1         2016  01M019             P.S. 019 ASHER LEVY   \n",
      "2         2016  01M020            P.S. 020 ANNA SILVER   \n",
      "3         2016  01M034  P.S. 034 FRANKLIN D. ROOSEVELT   \n",
      "4         2016  01M063       THE STAR ACADEMY - P.S.63   \n",
      "\n",
      "   school_pupil-teacher_ratio     dbn_year  \n",
      "0                    8.315576  01M015-2016  \n",
      "1                    6.636024  01M019-2016  \n",
      "2                   12.876770  01M020-2016  \n",
      "3                    9.046678  01M034-2016  \n",
      "4                    9.290099  01M063-2016  \n"
     ]
    }
   ],
   "source": [
    "# create unique identifier combining the school number (dbn) and school year\n",
    "dataframes = [df_attendance, df_classsize, df_PTR]\n",
    "\n",
    "for df in dataframes:\n",
    "    df['dbn_year'] = df.apply(lambda row: f\"{row['dbn']}-{row['school_year']}\", axis=1)\n",
    "\n",
    "\n",
    "print(\"Attendance dataset\")\n",
    "print(df_attendance.head())\n",
    "print()\n",
    "print(\"Class size dataset\")\n",
    "print(df_classsize.head())\n",
    "print()\n",
    "print(\"Pupil-teacher ratio dataset\")\n",
    "print(df_PTR.head())"
   ]
  },
  {
   "cell_type": "code",
   "execution_count": 29,
   "id": "ad1fc37f",
   "metadata": {},
   "outputs": [],
   "source": [
    "# save as csv files\n",
    "\n",
    "df_attendance.to_csv('df_attendance.csv', index=False)\n",
    "df_classsize.to_csv('df_classsize.csv', index=False)\n",
    "df_PTR.to_csv('df_PTR.csv', index=False)\n"
   ]
  },
  {
   "cell_type": "markdown",
   "id": "f4d7a64c",
   "metadata": {},
   "source": [
    "## 3. Data Analysis"
   ]
  },
  {
   "cell_type": "markdown",
   "id": "af48c1d6",
   "metadata": {},
   "source": [
    "First, we will look at the distribution and some descriptive statistics to understand the data better."
   ]
  },
  {
   "cell_type": "code",
   "execution_count": 30,
   "id": "488c6a17",
   "metadata": {},
   "outputs": [
    {
     "data": {
      "image/png": "[encoded data removed]",
      "text/plain": [
       "<Figure size 200x400 with 1 Axes>"
      ]
     },
     "metadata": {},
     "output_type": "display_data"
    }
   ],
   "source": [
    "# distribution of chronic school absenteeism \n",
    "\n",
    "plt.figure(figsize=(2, 4))\n",
    "plt.hist(df_attendance['%_chronically_absent'], bins=20, edgecolor='black')\n",
    "plt.xlabel('Chronic Absenteeism Rate')\n",
    "plt.ylabel('Frequency')\n",
    "plt.title('Distribution of Chronic Absenteeism Rate')\n",
    "plt.grid(True)\n",
    "plt.show()"
   ]
  },
  {
   "cell_type": "code",
   "execution_count": 31,
   "id": "c59dd9cb",
   "metadata": {
    "scrolled": true
   },
   "outputs": [
    {
     "data": {
      "image/png": "[encoded data removed]",
      "text/plain": [
       "<Figure size 200x200 with 1 Axes>"
      ]
     },
     "metadata": {},
     "output_type": "display_data"
    }
   ],
   "source": [
    "# distribution of average class size\n",
    "\n",
    "plt.figure(figsize=(2, 2))\n",
    "plt.hist(df_classsize['average_class_size'], bins=20, edgecolor='black')\n",
    "plt.xlabel('Average Class Size')\n",
    "plt.ylabel('Frequency')\n",
    "plt.title('Distribution of Average Class Size')\n",
    "plt.grid(True)\n",
    "plt.show()"
   ]
  },
  {
   "cell_type": "code",
   "execution_count": 32,
   "id": "baac0e9a",
   "metadata": {},
   "outputs": [
    {
     "data": {
      "image/png": "[encoded data removed]",
      "text/plain": [
       "<Figure size 200x200 with 1 Axes>"
      ]
     },
     "metadata": {},
     "output_type": "display_data"
    }
   ],
   "source": [
    "# distribution of pupil-teacher ratio\n",
    "\n",
    "plt.figure(figsize=(2, 2))\n",
    "plt.hist(df_PTR['school_pupil-teacher_ratio'], bins=20, edgecolor='black')\n",
    "plt.xlabel('School Pupil-Teacher Ratio')\n",
    "plt.ylabel('Frequency')\n",
    "plt.title('Distribution of School Pupil-Teacher Ratio')\n",
    "plt.grid(True)\n",
    "plt.show()"
   ]
  },
  {
   "cell_type": "code",
   "execution_count": 33,
   "id": "7f6db793",
   "metadata": {},
   "outputs": [
    {
     "name": "stdout",
     "output_type": "stream",
     "text": [
      "Attendance dataset\n",
      "        school_year   #_total_days  #_days_absent  #_days_present  \\\n",
      "count  55953.000000   55953.000000   55953.000000    55953.000000   \n",
      "mean    2019.002270   17598.798313    1532.700945    15777.610977   \n",
      "std        1.998725   18625.568690    2007.952462    16977.760505   \n",
      "min     2016.000000       1.000000       0.000000        0.000000   \n",
      "25%     2017.000000    8862.000000     649.000000     7805.000000   \n",
      "50%     2019.000000   13516.000000    1072.000000    12035.000000   \n",
      "75%     2021.000000   19474.000000    1731.000000    17626.000000   \n",
      "max     2022.000000  269124.000000   50798.000000   259881.000000   \n",
      "\n",
      "       %_attendance  #_contributing_10+_total_days_and_1+_pres_day  \\\n",
      "count  55953.000000                                   55953.000000   \n",
      "mean      87.849330                                     110.216092   \n",
      "std       16.467012                                     116.643775   \n",
      "min        0.000000                                       0.000000   \n",
      "25%       87.931534                                      57.000000   \n",
      "50%       91.554749                                      87.000000   \n",
      "75%       94.098618                                     122.000000   \n",
      "max       99.876946                                    1589.000000   \n",
      "\n",
      "       #_chronically_absent  %_chronically_absent  \n",
      "count          55953.000000          55953.000000  \n",
      "mean              31.003896             30.075436  \n",
      "std               35.441281             18.223218  \n",
      "min                0.000000              0.000000  \n",
      "25%               13.000000             15.748032  \n",
      "50%               23.000000             28.461538  \n",
      "75%               38.000000             42.553192  \n",
      "max              621.000000            100.000000  \n",
      "\n",
      "Class size dataset\n",
      "         school_year  number_of_students  number_of_classes  \\\n",
      "count  201642.000000       201642.000000      201642.000000   \n",
      "mean     2018.993642           82.174304           3.446445   \n",
      "std         2.000820          126.354303           4.580747   \n",
      "min      2016.000000            2.000000           1.000000   \n",
      "25%      2017.000000           26.000000           1.000000   \n",
      "50%      2019.000000           48.000000           2.000000   \n",
      "75%      2021.000000           85.000000           4.000000   \n",
      "max      2022.000000         3078.000000         255.000000   \n",
      "\n",
      "       average_class_size  minimum_class_size  maximum_class_size  \n",
      "count       201642.000000       201642.000000       201642.000000  \n",
      "mean            22.825151           17.947714           22.931592  \n",
      "std              7.640996           10.454826            9.953448  \n",
      "min              1.000000            0.000000            0.000000  \n",
      "25%             18.500000           11.000000           19.000000  \n",
      "50%             24.000000           21.000000           26.000000  \n",
      "75%             28.000000           26.000000           30.000000  \n",
      "max            100.000000           93.000000          100.000000  \n",
      "\n",
      "Pupil-teacher ratio dataset\n",
      "        school_year  school_pupil-teacher_ratio\n",
      "count  10700.000000                10700.000000\n",
      "mean    2018.994112                   12.933177\n",
      "std        2.002817                    2.778718\n",
      "min     2016.000000                    3.302822\n",
      "25%     2017.000000                   11.093600\n",
      "50%     2019.000000                   12.950263\n",
      "75%     2021.000000                   14.775422\n",
      "max     2022.000000                   26.200000\n"
     ]
    }
   ],
   "source": [
    "# calculate descriptive statistics\n",
    "\n",
    "print(\"Attendance dataset\")\n",
    "print(df_attendance.describe())\n",
    "print()\n",
    "print(\"Class size dataset\")\n",
    "print(df_classsize.describe())\n",
    "print()\n",
    "print(\"Pupil-teacher ratio dataset\")\n",
    "print(df_PTR.describe())"
   ]
  },
  {
   "cell_type": "markdown",
   "id": "ea1da05b",
   "metadata": {},
   "source": [
    "Second, the distribution suggests that we can calculate the average chronic school absenteeism, class size, and pupil-teacher ratio per school per school year.\n"
   ]
  },
  {
   "cell_type": "code",
   "execution_count": 34,
   "id": "257b37e6",
   "metadata": {},
   "outputs": [
    {
     "name": "stdout",
     "output_type": "stream",
     "text": [
      "dbn_year\n",
      "01M015-2016    18.885631\n",
      "01M015-2017    18.755662\n",
      "01M015-2018    22.972140\n",
      "01M015-2019    25.384357\n",
      "01M015-2020    41.077320\n",
      "Name: %_chronically_absent, dtype: float64\n",
      "dbn_year\n",
      "01M015-2016    17.333333\n",
      "01M015-2017    15.727273\n",
      "01M015-2018    14.090909\n",
      "01M015-2019    15.100000\n",
      "01M015-2020     9.444444\n",
      "Name: average_class_size, dtype: float64\n",
      "dbn_year\n",
      "01M015-2016    17.333333\n",
      "01M015-2017    15.727273\n",
      "01M015-2018    14.090909\n",
      "01M015-2019    15.100000\n",
      "01M015-2020     9.444444\n",
      "Name: average_class_size, dtype: float64\n"
     ]
    }
   ],
   "source": [
    "# calculate the averages\n",
    "\n",
    "# group the dataframe by school and calculate the average chronic absenteeism rate over the period 2016-2023\n",
    "avg_chronic_absenteeism = df_attendance.groupby('dbn_year')['%_chronically_absent'].mean()\n",
    "avg_class_size = df_classsize.groupby('dbn_year')['average_class_size'].mean()\n",
    "avg_PTR = df_PTR.groupby('dbn_year')['school_pupil-teacher_ratio'].mean()\n",
    "\n",
    "# check results\n",
    "print(avg_chronic_absenteeism.head())\n",
    "print(avg_class_size.head())\n",
    "print(avg_class_size.head())"
   ]
  },
  {
   "cell_type": "code",
   "execution_count": 35,
   "id": "33ecfd81",
   "metadata": {},
   "outputs": [
    {
     "data": {
      "text/html": [
       "<div>\n",
       "<style scoped>\n",
       "    .dataframe tbody tr th:only-of-type {\n",
       "        vertical-align: middle;\n",
       "    }\n",
       "\n",
       "    .dataframe tbody tr th {\n",
       "        vertical-align: top;\n",
       "    }\n",
       "\n",
       "    .dataframe thead th {\n",
       "        text-align: right;\n",
       "    }\n",
       "</style>\n",
       "<table border=\"1\" class=\"dataframe\">\n",
       "  <thead>\n",
       "    <tr style=\"text-align: right;\">\n",
       "      <th></th>\n",
       "      <th>dbn_year</th>\n",
       "      <th>%_chronically_absent</th>\n",
       "      <th>average_class_size</th>\n",
       "      <th>school_pupil-teacher_ratio</th>\n",
       "    </tr>\n",
       "  </thead>\n",
       "  <tbody>\n",
       "    <tr>\n",
       "      <th>0</th>\n",
       "      <td>01M015-2016</td>\n",
       "      <td>18.885631</td>\n",
       "      <td>17.333333</td>\n",
       "      <td>8.315576</td>\n",
       "    </tr>\n",
       "    <tr>\n",
       "      <th>1</th>\n",
       "      <td>01M015-2017</td>\n",
       "      <td>18.755662</td>\n",
       "      <td>15.727273</td>\n",
       "      <td>7.919078</td>\n",
       "    </tr>\n",
       "    <tr>\n",
       "      <th>2</th>\n",
       "      <td>01M015-2018</td>\n",
       "      <td>22.972140</td>\n",
       "      <td>14.090909</td>\n",
       "      <td>7.410202</td>\n",
       "    </tr>\n",
       "    <tr>\n",
       "      <th>3</th>\n",
       "      <td>01M015-2019</td>\n",
       "      <td>25.384357</td>\n",
       "      <td>15.100000</td>\n",
       "      <td>8.147147</td>\n",
       "    </tr>\n",
       "    <tr>\n",
       "      <th>4</th>\n",
       "      <td>01M015-2020</td>\n",
       "      <td>41.077320</td>\n",
       "      <td>9.444444</td>\n",
       "      <td>8.100000</td>\n",
       "    </tr>\n",
       "  </tbody>\n",
       "</table>\n",
       "</div>"
      ],
      "text/plain": [
       "      dbn_year  %_chronically_absent  average_class_size  \\\n",
       "0  01M015-2016             18.885631           17.333333   \n",
       "1  01M015-2017             18.755662           15.727273   \n",
       "2  01M015-2018             22.972140           14.090909   \n",
       "3  01M015-2019             25.384357           15.100000   \n",
       "4  01M015-2020             41.077320            9.444444   \n",
       "\n",
       "   school_pupil-teacher_ratio  \n",
       "0                    8.315576  \n",
       "1                    7.919078  \n",
       "2                    7.410202  \n",
       "3                    8.147147  \n",
       "4                    8.100000  "
      ]
     },
     "execution_count": 35,
     "metadata": {},
     "output_type": "execute_result"
    }
   ],
   "source": [
    "# merge the three DataFrames on the unique identifier 'dbn_year'\n",
    "df_merged = pd.merge(avg_chronic_absenteeism, avg_class_size, on='dbn_year')\n",
    "df_merged = pd.merge(df_merged, avg_PTR, on='dbn_year')\n",
    "\n",
    "# reset the index after merging\n",
    "df_merged = df_merged.reset_index()\n",
    "\n",
    "# check  result\n",
    "df_merged.head()\n",
    "\n"
   ]
  },
  {
   "cell_type": "code",
   "execution_count": 36,
   "id": "e7671b11",
   "metadata": {},
   "outputs": [
    {
     "name": "stdout",
     "output_type": "stream",
     "text": [
      "<class 'pandas.core.frame.DataFrame'>\n",
      "RangeIndex: 10313 entries, 0 to 10312\n",
      "Data columns (total 4 columns):\n",
      " #   Column              Non-Null Count  Dtype  \n",
      "---  ------              --------------  -----  \n",
      " 0   dbn_year            10313 non-null  object \n",
      " 1   chronically_absent  10313 non-null  float64\n",
      " 2   class_size          10313 non-null  float64\n",
      " 3   PTR                 10313 non-null  float64\n",
      "dtypes: float64(3), object(1)\n",
      "memory usage: 322.4+ KB\n"
     ]
    }
   ],
   "source": [
    "# rename columns\n",
    "df_merged = df_merged.rename(columns={\n",
    "    '%_chronically_absent': 'chronically_absent',\n",
    "    'average_class_size': 'class_size',\n",
    "    'school_pupil-teacher_ratio': 'PTR'\n",
    "})\n",
    "\n",
    "df_merged.info()"
   ]
  },
  {
   "cell_type": "code",
   "execution_count": 37,
   "id": "efff0ea9",
   "metadata": {},
   "outputs": [],
   "source": [
    "# save as a csv file\n",
    "\n",
    "df_merged.to_csv('df_merged.csv', index=False)"
   ]
  },
  {
   "cell_type": "code",
   "execution_count": 38,
   "id": "7d498590",
   "metadata": {},
   "outputs": [
    {
     "data": {
      "image/png": "[encoded data removed]",
      "text/plain": [
       "<Figure size 300x300 with 2 Axes>"
      ]
     },
     "metadata": {},
     "output_type": "display_data"
    }
   ],
   "source": [
    "# calculate the correlation matrix\n",
    "correlation_matrix = df_merged.corr()\n",
    "\n",
    "# visualize the correlation matrix\n",
    "plt.figure(figsize=(3, 3))\n",
    "sns.heatmap(correlation_matrix, annot=True, cmap='coolwarm', fmt=\".2f\", linewidths=0.5)\n",
    "plt.title('Correlation Matrix')\n",
    "plt.show()"
   ]
  },
  {
   "cell_type": "code",
   "execution_count": 39,
   "id": "5249a544",
   "metadata": {},
   "outputs": [
    {
     "name": "stdout",
     "output_type": "stream",
     "text": [
      "     Features        VIF\n",
      "0   Intercept  33.625294\n",
      "1  class_size   1.560587\n",
      "2         PTR   1.560587\n"
     ]
    }
   ],
   "source": [
    "# check multicollinearity using variance inflation factors (VIFs)\n",
    "\n",
    "y, X = dmatrices('chronically_absent ~ class_size + PTR', data=df_merged, return_type='dataframe')\n",
    "\n",
    "vif = pd.DataFrame()\n",
    "vif[\"Features\"] = X.columns\n",
    "vif[\"VIF\"] = [variance_inflation_factor(X.values, i) for i in range(X.shape[1])]\n",
    "\n",
    "print(vif)"
   ]
  },
  {
   "cell_type": "code",
   "execution_count": 40,
   "id": "6168c292",
   "metadata": {},
   "outputs": [
    {
     "data": {
      "image/png": "[encoded data removed]",
      "text/plain": [
       "<Figure size 800x400 with 2 Axes>"
      ]
     },
     "metadata": {},
     "output_type": "display_data"
    }
   ],
   "source": [
    "# visualize the relationship\n",
    "\n",
    "import seaborn as sns\n",
    "import matplotlib.pyplot as plt\n",
    "import statsmodels.api as sm\n",
    "\n",
    "# create pairplot\n",
    "pairplot = sns.pairplot(df_merged, y_vars=['chronically_absent'], x_vars=['class_size', 'PTR'], height=4)\n",
    "\n",
    "# add regression lines\n",
    "for ax in pairplot.axes.flatten():\n",
    "    # Get the x and y data from the scatter plot\n",
    "    x_data = ax.collections[0].get_offsets()[:, 0]\n",
    "    y_data = ax.collections[0].get_offsets()[:, 1]\n",
    "\n",
    "    # fit the regression line\n",
    "    X = sm.add_constant(x_data)\n",
    "    model = sm.OLS(y_data, X).fit()\n",
    "\n",
    "    # plot the fitted line\n",
    "    ax.plot(x_data, model.predict(X), color='red')\n",
    "\n",
    "plt.show()\n"
   ]
  },
  {
   "cell_type": "code",
   "execution_count": 51,
   "id": "0ce28fc4",
   "metadata": {},
   "outputs": [
    {
     "data": {
      "image/png": "[encoded data removed]",
      "text/plain": [
       "<Figure size 400x200 with 1 Axes>"
      ]
     },
     "metadata": {},
     "output_type": "display_data"
    }
   ],
   "source": [
    "# create a histogram of residuals to see if a linear regression is appropriate\n",
    "\n",
    "import numpy as np\n",
    "import statsmodels.api as sm\n",
    "import matplotlib.pyplot as plt\n",
    "\n",
    "# Assuming df_merged is your DataFrame with the relevant columns\n",
    "# X should contain your independent variables, and y your dependent variable\n",
    "X = df_merged[['class_size', 'PTR']]\n",
    "y = df_merged['chronically_absent']\n",
    "\n",
    "# Add constant to X for the intercept\n",
    "X = sm.add_constant(X)\n",
    "\n",
    "# Fit the OLS model\n",
    "model = sm.OLS(y, X).fit()\n",
    "\n",
    "# Get the predicted values and residuals\n",
    "predicted_values = model.predict(X)\n",
    "residuals = model.resid\n",
    "\n",
    "# Plot residuals against predicted values\n",
    "plt.figure(figsize=(4, 2))\n",
    "plt.hist(residuals, bins=20, edgecolor='black')\n",
    "plt.title('Histogram of Residuals')\n",
    "plt.xlabel('Residuals')\n",
    "plt.ylabel('Frequency')\n",
    "plt.grid(True)\n",
    "plt.show()"
   ]
  },
  {
   "cell_type": "code",
   "execution_count": 42,
   "id": "e04a493f",
   "metadata": {},
   "outputs": [
    {
     "data": {
      "text/html": [
       "<table class=\"simpletable\">\n",
       "<caption>OLS Regression Results</caption>\n",
       "<tr>\n",
       "  <th>Dep. Variable:</th>    <td>chronically_absent</td> <th>  R-squared:         </th> <td>   0.178</td> \n",
       "</tr>\n",
       "<tr>\n",
       "  <th>Model:</th>                    <td>OLS</td>        <th>  Adj. R-squared:    </th> <td>   0.178</td> \n",
       "</tr>\n",
       "<tr>\n",
       "  <th>Method:</th>              <td>Least Squares</td>   <th>  F-statistic:       </th> <td>   1117.</td> \n",
       "</tr>\n",
       "<tr>\n",
       "  <th>Date:</th>              <td>Sat, 18 Jan 2025</td>  <th>  Prob (F-statistic):</th>  <td>  0.00</td>  \n",
       "</tr>\n",
       "<tr>\n",
       "  <th>Time:</th>                  <td>21:10:22</td>      <th>  Log-Likelihood:    </th> <td> -42202.</td> \n",
       "</tr>\n",
       "<tr>\n",
       "  <th>No. Observations:</th>       <td> 10313</td>       <th>  AIC:               </th> <td>8.441e+04</td>\n",
       "</tr>\n",
       "<tr>\n",
       "  <th>Df Residuals:</th>           <td> 10310</td>       <th>  BIC:               </th> <td>8.443e+04</td>\n",
       "</tr>\n",
       "<tr>\n",
       "  <th>Df Model:</th>               <td>     2</td>       <th>                     </th>     <td> </td>    \n",
       "</tr>\n",
       "<tr>\n",
       "  <th>Covariance Type:</th>       <td>nonrobust</td>     <th>                     </th>     <td> </td>    \n",
       "</tr>\n",
       "</table>\n",
       "<table class=\"simpletable\">\n",
       "<tr>\n",
       "       <td></td>         <th>coef</th>     <th>std err</th>      <th>t</th>      <th>P>|t|</th>  <th>[0.025</th>    <th>0.975]</th>  \n",
       "</tr>\n",
       "<tr>\n",
       "  <th>intercept</th>  <td>   65.1147</td> <td>    0.827</td> <td>   78.708</td> <td> 0.000</td> <td>   63.493</td> <td>   66.736</td>\n",
       "</tr>\n",
       "<tr>\n",
       "  <th>class_size</th> <td>   -0.2917</td> <td>    0.043</td> <td>   -6.765</td> <td> 0.000</td> <td>   -0.376</td> <td>   -0.207</td>\n",
       "</tr>\n",
       "<tr>\n",
       "  <th>PTR</th>        <td>   -2.1599</td> <td>    0.065</td> <td>  -33.396</td> <td> 0.000</td> <td>   -2.287</td> <td>   -2.033</td>\n",
       "</tr>\n",
       "</table>\n",
       "<table class=\"simpletable\">\n",
       "<tr>\n",
       "  <th>Omnibus:</th>       <td>260.773</td> <th>  Durbin-Watson:     </th> <td>   0.726</td>\n",
       "</tr>\n",
       "<tr>\n",
       "  <th>Prob(Omnibus):</th> <td> 0.000</td>  <th>  Jarque-Bera (JB):  </th> <td> 280.595</td>\n",
       "</tr>\n",
       "<tr>\n",
       "  <th>Skew:</th>          <td> 0.404</td>  <th>  Prob(JB):          </th> <td>1.17e-61</td>\n",
       "</tr>\n",
       "<tr>\n",
       "  <th>Kurtosis:</th>      <td> 3.027</td>  <th>  Cond. No.          </th> <td>    152.</td>\n",
       "</tr>\n",
       "</table><br/><br/>Notes:<br/>[1] Standard Errors assume that the covariance matrix of the errors is correctly specified."
      ],
      "text/plain": [
       "<class 'statsmodels.iolib.summary.Summary'>\n",
       "\"\"\"\n",
       "                            OLS Regression Results                            \n",
       "==============================================================================\n",
       "Dep. Variable:     chronically_absent   R-squared:                       0.178\n",
       "Model:                            OLS   Adj. R-squared:                  0.178\n",
       "Method:                 Least Squares   F-statistic:                     1117.\n",
       "Date:                Sat, 18 Jan 2025   Prob (F-statistic):               0.00\n",
       "Time:                        21:10:22   Log-Likelihood:                -42202.\n",
       "No. Observations:               10313   AIC:                         8.441e+04\n",
       "Df Residuals:                   10310   BIC:                         8.443e+04\n",
       "Df Model:                           2                                         \n",
       "Covariance Type:            nonrobust                                         \n",
       "==============================================================================\n",
       "                 coef    std err          t      P>|t|      [0.025      0.975]\n",
       "------------------------------------------------------------------------------\n",
       "intercept     65.1147      0.827     78.708      0.000      63.493      66.736\n",
       "class_size    -0.2917      0.043     -6.765      0.000      -0.376      -0.207\n",
       "PTR           -2.1599      0.065    -33.396      0.000      -2.287      -2.033\n",
       "==============================================================================\n",
       "Omnibus:                      260.773   Durbin-Watson:                   0.726\n",
       "Prob(Omnibus):                  0.000   Jarque-Bera (JB):              280.595\n",
       "Skew:                           0.404   Prob(JB):                     1.17e-61\n",
       "Kurtosis:                       3.027   Cond. No.                         152.\n",
       "==============================================================================\n",
       "\n",
       "Notes:\n",
       "[1] Standard Errors assume that the covariance matrix of the errors is correctly specified.\n",
       "\"\"\""
      ]
     },
     "execution_count": 42,
     "metadata": {},
     "output_type": "execute_result"
    }
   ],
   "source": [
    "# as a linear model is appropriate, we build a model chronic absenteeism - class size and pupil-teacher ratio\n",
    "\n",
    "# we want to build a model to understand how the chronic school absenteeism rate using class size and pupil-teacher\n",
    "# ratio are related, and if one of the two independent variables is better at explaining the response\n",
    "\n",
    "df_merged['intercept'] = 1\n",
    "lm = sm.OLS(df_merged['chronically_absent'], df_merged[['intercept', 'class_size', 'PTR']])\n",
    "results = lm.fit()\n",
    "results.summary()\n"
   ]
  },
  {
   "cell_type": "markdown",
   "id": "0ef19cd3",
   "metadata": {},
   "source": [
    "# Conclusion\n",
    "\n",
    "We find a negative relationship between chronic school absenteeism and the two independent variables. In other words, against expectation, chronic school absenteeism tends to increase as class sizes and pupil-teacher ratio decrease.\n",
    "\n",
    "First, the effect of class size is small - only 0.29.\n",
    "\n",
    "Second, a higher pupil-teacher ratio (more pupils per teacher) is more strongly associated with a significant decrease in chronic absenteeism. The model predicts nearly 2 fewer chronically absent students for each 1-unit increase in PTR.\n",
    "\n",
    "Other factors, such as teacher quality, classroom resources, student engagement, and school environment, play a crucial role in determining the actual educational experience. Sometimes, schools with higher pupil-teacher ratio may still be able to offer high-quality education if other factors are strong.\n",
    "\n",
    "Indeed, the R-squared value indicates that only 17.8% of the variation in chronic absenteeism can be explained by the independent variables in the model. While this is statistically significant, it suggests that there are likely other important factors influencing chronic absenteeism that are not captured in the model. These may be teacher quality, student engagement, classroom resources and factors external to the school (health and family situation).\n",
    "\n",
    "The p-value is 0.000 (below 0.05), indicating that the results are statistically significant. Nevertheless, they alone are inconclusive regarding the effect that reducing class sizes would have on chronic school absenteeism.\n",
    "\n",
    "Although the study indicates that reducing class sizes may not be the most effective policy to reduce absenteeism, the findings underscore the complexity of addressing chronic absenteeism. Further research is needed to explore the role of additional variables and to evaluate the broader impact of educational policies like class size reduction.\n",
    "\n",
    "Please refer to this visual [exploratory analysis of chronic school absenteeism in public schools in NYC](https://public.tableau.com/app/profile/lyuba3471/viz/ChronicSchoolAbsenteeisminNYCPublicSchools/ChronicSchoolAbsenteeisminNYCPublicSchools) for further information."
   ]
  }
 ],
 "metadata": {
  "kernelspec": {
   "display_name": "Python 3 (ipykernel)",
   "language": "python",
   "name": "python3"
  },
  "language_info": {
   "codemirror_mode": {
    "name": "ipython",
    "version": 3
   },
   "file_extension": ".py",
   "mimetype": "text/x-python",
   "name": "python",
   "nbconvert_exporter": "python",
   "pygments_lexer": "ipython3",
   "version": "3.9.13"
  }
 },
 "nbformat": 4,
 "nbformat_minor": 5
}
